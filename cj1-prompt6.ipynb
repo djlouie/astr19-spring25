{
 "cells": [
  {
   "cell_type": "markdown",
   "id": "055dcbf7",
   "metadata": {},
   "source": [
    "# Coding Journal 1 Prompt 6"
   ]
  },
  {
   "cell_type": "markdown",
   "id": "b70699ad",
   "metadata": {},
   "source": [
    "### Import Libraries/Modules"
   ]
  },
  {
   "cell_type": "code",
   "execution_count": 27,
   "id": "3249f8d9",
   "metadata": {},
   "outputs": [],
   "source": [
    "import math\n",
    "import numpy as np\n",
    "from tabulate import tabulate"
   ]
  },
  {
   "cell_type": "markdown",
   "id": "1a346ec0",
   "metadata": {},
   "source": [
    "### Define a `sin()` function\n",
    "This function returns the sine of the input"
   ]
  },
  {
   "cell_type": "code",
   "execution_count": 28,
   "id": "5e31da52",
   "metadata": {},
   "outputs": [],
   "source": [
    "def sin(x):\n",
    "    return np.sin(x)"
   ]
  },
  {
   "cell_type": "markdown",
   "id": "19b1be59",
   "metadata": {},
   "source": [
    "### Define a `cos()` function\n",
    "This function returns the cosine of the input"
   ]
  },
  {
   "cell_type": "code",
   "execution_count": 29,
   "id": "e3f97563",
   "metadata": {},
   "outputs": [],
   "source": [
    "def cos(x):\n",
    "    return np.cos(x)"
   ]
  },
  {
   "cell_type": "markdown",
   "id": "8a7d0568",
   "metadata": {},
   "source": [
    "### Tabulate `x`\n",
    "Tabulates `sin(x)` and `cos(x)` where `x` is between 0 and $2\\pi$ for 1000 entries."
   ]
  },
  {
   "cell_type": "code",
   "execution_count": 30,
   "id": "5bfe5e62",
   "metadata": {},
   "outputs": [],
   "source": [
    "x = np.linspace(0, 2 * math.pi, 1000)\n",
    "sin_x = sin(x)\n",
    "cos_x = cos(x)\n",
    "\n",
    "table_data = [(a, b, c) for a, b, c in zip(x, sin_x, cos_x)]\n",
    "headers = [\"x\", \"sin(x)\", \"cos(x)\"]\n",
    "\n",
    "table = tabulate(tabular_data=table_data, headers=headers, tablefmt='grid')"
   ]
  },
  {
   "cell_type": "markdown",
   "id": "001b589b",
   "metadata": {},
   "source": [
    "### Tabulate first 10 `x`\n",
    "Uses a for loop to print out the first 10 values of `x`, `sin(x)`, and `cos(x)` in columns"
   ]
  },
  {
   "cell_type": "code",
   "execution_count": 31,
   "id": "0e9fe446",
   "metadata": {},
   "outputs": [
    {
     "name": "stdout",
     "output_type": "stream",
     "text": [
      "+------------+------------+----------+\n",
      "|          x |     sin(x) |   cos(x) |\n",
      "+============+============+==========+\n",
      "| 0          | 0          | 1        |\n",
      "+------------+------------+----------+\n",
      "| 0.00628947 | 0.00628943 | 0.99998  |\n",
      "+------------+------------+----------+\n",
      "| 0.0125789  | 0.0125786  | 0.999921 |\n",
      "+------------+------------+----------+\n",
      "| 0.0188684  | 0.0188673  | 0.999822 |\n",
      "+------------+------------+----------+\n",
      "| 0.0251579  | 0.0251552  | 0.999684 |\n",
      "+------------+------------+----------+\n",
      "| 0.0314474  | 0.0314422  | 0.999506 |\n",
      "+------------+------------+----------+\n",
      "| 0.0377368  | 0.0377279  | 0.999288 |\n",
      "+------------+------------+----------+\n",
      "| 0.0440263  | 0.0440121  | 0.999031 |\n",
      "+------------+------------+----------+\n",
      "| 0.0503158  | 0.0502946  | 0.998734 |\n",
      "+------------+------------+----------+\n",
      "| 0.0566053  | 0.056575   | 0.998398 |\n",
      "+------------+------------+----------+\n"
     ]
    }
   ],
   "source": [
    "first_10_data = []\n",
    "\n",
    "for i in range(10):\n",
    "    first_10_data.append(table_data[i])\n",
    "\n",
    "table = tabulate(tabular_data=first_10_data, headers=headers, tablefmt='grid')\n",
    "print(table)"
   ]
  }
 ],
 "metadata": {
  "kernelspec": {
   "display_name": "base",
   "language": "python",
   "name": "python3"
  },
  "language_info": {
   "codemirror_mode": {
    "name": "ipython",
    "version": 3
   },
   "file_extension": ".py",
   "mimetype": "text/x-python",
   "name": "python",
   "nbconvert_exporter": "python",
   "pygments_lexer": "ipython3",
   "version": "3.10.9"
  }
 },
 "nbformat": 4,
 "nbformat_minor": 5
}
